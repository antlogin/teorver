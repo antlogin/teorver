{
 "cells": [
  {
   "cell_type": "markdown",
   "id": "207a37e9",
   "metadata": {},
   "source": [
    "#### Задача 1.\n",
    "Посчитайте (несмещённое) среднее квадратичное отклонение для выборки:\n",
    "\n",
    "100, 80, 75, 77, 89, 33, 45, 25, 65, 17, 30, 230, 24, 57, 55, 70, 75, 65, 84, 90, 150"
   ]
  },
  {
   "cell_type": "code",
   "execution_count": 58,
   "id": "854ea478",
   "metadata": {},
   "outputs": [
    {
     "name": "stdout",
     "output_type": "stream",
     "text": [
      "среднее квадратичное отклонение σ = 47.34795214\n"
     ]
    }
   ],
   "source": [
    "salary = [100, 80, 75, 77, 89, 33, 45, 25, 65, 17, 30, 230, 24, 57, 55, 70, 75, 65, 84, 90, 150]\n",
    "avr_salary=sum(salary)/len(salary)\n",
    "disp=0\n",
    "for i in range(len(salary)):\n",
    "    disp=disp+(salary[i]-avr_salary)**2\n",
    "disp=(disp/(len(salary)-1))**0.5\n",
    "disp = float('{:.8f}'.format(disp))\n",
    "print(f\"среднее квадратичное отклонение \\u03C3 = {disp}\")\n"
   ]
  },
  {
   "cell_type": "markdown",
   "id": "fd92d8a9",
   "metadata": {},
   "source": [
    "#### Задача 2. \n",
    "Найдите число выбросов в выборке из задачи 1."
   ]
  },
  {
   "cell_type": "code",
   "execution_count": 59,
   "id": "221116c6",
   "metadata": {},
   "outputs": [
    {
     "name": "stdout",
     "output_type": "stream",
     "text": [
      "Количество выбросов - 2\n"
     ]
    }
   ],
   "source": [
    "outliers_number=0 # количество выбросов\n",
    "salary = [100, 80, 75, 77, 89, 33, 45, 25, 65, 17, 30, 230, 24, 57, 55, 70, 75, 65, 84, 90, 150]\n",
    "def qvantil(arr, alpha): # функция возвращает alpha-квартиль для выборки (list) arr\n",
    "    x=0\n",
    "    arr.sort()\n",
    "    N=len(arr)\n",
    "    K=int((N-1)*alpha)\n",
    "    if K+1 < alpha*N:\n",
    "        x=arr[K+1]\n",
    "    if K+1 == alpha*N:\n",
    "        x=(arr[K+1]+arr[K])/2\n",
    "    if K+1 > alpha*N:\n",
    "        x=arr[K]\n",
    "    return x\n",
    "\n",
    "koef=1.5 # коэффициент \"ширрины усов\"\n",
    "Q_1=qvantil(salary, 0.25) # первый квартиль\n",
    "Q_3=qvantil(salary, 0.75) # третий квартиль\n",
    "X_1=Q_1-koef*(Q_3-Q_1) # значение нижнего \"уса\"\n",
    "X_3=Q_3+koef*(Q_3-Q_1) # значение верхнего \"уса\"\n",
    "for i in range(len(salary)):\n",
    "    if salary[i]<X_1 or salary[i]>X_3:\n",
    "        outliers_number+=1\n",
    "    \n",
    "print(f\"Количество выбросов - {outliers_number}\")\n",
    "\n"
   ]
  },
  {
   "cell_type": "markdown",
   "id": "bf2d84af",
   "metadata": {},
   "source": [
    "#### Задача 3.\n",
    "В университет на факультет A поступило 100 человек, на факультет B - 90 человек и на факультет C - 45 человек. Вероятность того, что студент с факультета A сдаст первую сессию, равна 0.6. Для студента с факультета B эта вероятность равна 0.7, а для студента с факультета C - 0.8. Случайным образом выбирается студент, сдавший первую сессию. Какое событие наиболее вероятно:\n",
    "1. студент учится на факультете A,\n",
    "2. студент учится на факультете B,\n",
    "3. студент учится на факультете C?\n",
    "\n",
    "Пусть $P(S)$ - вероятность того, что данный студент сдал сесию, тогда:\n",
    "$$ P(S) = P(F_A) P(S|F_A)+P(F_B)P(S|F_B)+P(F_C)P(S|F_C)$$\n",
    "(формула полной вероятности)\n",
    "\n",
    "где $P(F_A)$, $P(F_B)$, $P(F_C)$ - вероятности того, что студент учится на факультетах $A$, $B$ и $C$ соответственно.\n",
    "$$ P(F_A)=100/235 , P(F_B)=90/235, P(F_C)=45/235 $$\n",
    "$P(S|F_A)=0.6$, $P(S|F_B)=0.7$, $P(S|F_C)=0.8$ - вероятности сдать сесию учась на соответствующем факультете.\n",
    "$$ P(S) = 159/235$$\n",
    "\n",
    "$P(F_i|S)$ - вероятность того, что студент сдавший сесию учится на $i$-м факультете ($i = A, B, C$)\n",
    "\n",
    "По формуле Байеса: \n",
    "$$P(F_i|S)=\\frac{P(S|F_i)P(F_i)}{P(S)} $$\n",
    "\n",
    "$$P(F_A|S)=\\frac{0.6 \\cdot 100/235}{159/235} =  \\frac{0.8 \\cdot 100}{159}=0.3774$$\n",
    "\n",
    "$$P(F_B|S)= \\frac{0.7 \\cdot 90}{159}=0.3962$$\n",
    "\n",
    "$$P(F_C|S)= \\frac{0.8 \\cdot 45}{159}=0.2264$$\n",
    "\n",
    "#### Ответ: вариант 2. \n",
    "##### вероятней всего, что студент, сдавший сесию, учится на факультете B.\n",
    " "
   ]
  }
 ],
 "metadata": {
  "kernelspec": {
   "display_name": "Python 3",
   "language": "python",
   "name": "python3"
  },
  "language_info": {
   "codemirror_mode": {
    "name": "ipython",
    "version": 3
   },
   "file_extension": ".py",
   "mimetype": "text/x-python",
   "name": "python",
   "nbconvert_exporter": "python",
   "pygments_lexer": "ipython3",
   "version": "3.8.8"
  }
 },
 "nbformat": 4,
 "nbformat_minor": 5
}
