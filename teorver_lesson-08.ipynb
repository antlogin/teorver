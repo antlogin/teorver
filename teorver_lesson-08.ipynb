{
 "cells": [
  {
   "cell_type": "markdown",
   "id": "1a088539",
   "metadata": {},
   "source": [
    "Используя данные о хоккеистах, проверьте, является ли среди хоккеистов из Финляндии, Норвегии и Дании значимым отличие: а) роста, б) BMI."
   ]
  },
  {
   "cell_type": "code",
   "execution_count": 36,
   "id": "ebdad58d",
   "metadata": {
    "scrolled": false
   },
   "outputs": [
    {
     "name": "stdout",
     "output_type": "stream",
     "text": [
      "year       0\n",
      "country    0\n",
      "name       0\n",
      "height     0\n",
      "bmi        0\n",
      "dtype: int64\n",
      " \n",
      " P-значение = 0.027, что меньше уровня значимости а=0.05, \n",
      " значит H0 о совпадении средних значений роста должна быть отвергнута \n",
      " т.е. оличие в росте хоккеистов разных стран является ЗНАЧИМЫМ\n",
      " \n",
      " P-значение = 0.000376, что меньше уровня значимости а=0.05, \n",
      " значит H0 о совпадении средних значений bmi должна быть отвергнута \n",
      " т.е. оличие по bmi хоккеистов разных стран является ЗНАЧИМЫМ\n"
     ]
    }
   ],
   "source": [
    "import numpy as np\n",
    "import pandas as pd\n",
    "from scipy import stats\n",
    "\n",
    "df0 = pd.read_csv('hockey_players.csv', usecols=['year','country','name','height','bmi'])\n",
    "\n",
    "# сортируем по году\n",
    "df0=df0.sort_values(by='year')\n",
    "# и убираем дубликаты, оставляя более свежие записи\n",
    "df1 = df0.loc[df0.name.duplicated(keep='last')!=True]\n",
    "df1 = df1.loc[(df1.country.values =='NOR')|(df1.country.values == \"FIN\")|(df1.country.values == \"DEN\")]\n",
    "# проверяем отсутствие пропусков\n",
    "print(df1.isna().sum())\n",
    "\n",
    "# преобразуем данные в массив numpy\n",
    "y1 = df1.height.loc[df1.country.values =='FIN'].to_numpy()\n",
    "y2 = df1.height.loc[df1.country.values =='NOR'].to_numpy()\n",
    "y3 = df1.height.loc[df1.country.values =='DEN'].to_numpy()\n",
    "\n",
    "# считаем и выводим P-value\n",
    "print(f\" \\n P-значение = {round(stats.f_oneway(y1, y2, y3)[1],3)}, что меньше уровня значимости а=0.05, \\n значит H0 о совпадении средних значений роста должна быть отвергнута \\n т.е. оличие в росте хоккеистов разных стран является ЗНАЧИМЫМ\")\n",
    "\n",
    "y1 = df1.bmi.loc[df1.country.values =='FIN'].to_numpy()\n",
    "y2 = df1.bmi.loc[df1.country.values =='NOR'].to_numpy()\n",
    "y3 = df1.bmi.loc[df1.country.values =='DEN'].to_numpy()\n",
    "\n",
    "print(f\" \\n P-значение = {round(stats.f_oneway(y1, y2, y3)[1],6)}, что меньше уровня значимости а=0.05, \\n значит H0 о совпадении средних значений bmi должна быть отвергнута \\n т.е. оличие по bmi хоккеистов разных стран является ЗНАЧИМЫМ\")"
   ]
  },
  {
   "cell_type": "code",
   "execution_count": null,
   "id": "80c207b7",
   "metadata": {},
   "outputs": [],
   "source": []
  }
 ],
 "metadata": {
  "kernelspec": {
   "display_name": "Python 3",
   "language": "python",
   "name": "python3"
  },
  "language_info": {
   "codemirror_mode": {
    "name": "ipython",
    "version": 3
   },
   "file_extension": ".py",
   "mimetype": "text/x-python",
   "name": "python",
   "nbconvert_exporter": "python",
   "pygments_lexer": "ipython3",
   "version": "3.8.8"
  }
 },
 "nbformat": 4,
 "nbformat_minor": 5
}
