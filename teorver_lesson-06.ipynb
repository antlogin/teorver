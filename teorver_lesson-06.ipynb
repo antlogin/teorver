{
 "cells": [
  {
   "cell_type": "markdown",
   "id": "b9a51765",
   "metadata": {},
   "source": [
    "#### Задание №1\n",
    "Даны значения величины заработной платы заемщиков банка (zp) и значения их поведенческого кредитного скоринга (ks):\n",
    "zp = [35, 45, 190, 200, 40, 70, 54, 150, 120, 110],\n",
    "ks = [401, 574, 874, 919, 459, 739, 653, 902, 746, 832].\n",
    "Найдите ковариацию этих двух величин с помощью элементарных действий, а затем с помощью функции cov из numpy\n",
    "Полученные значения должны быть равны.\n",
    "Найдите коэффициент корреляции Пирсона с помощью ковариации и среднеквадратичных отклонений двух признаков,\n",
    "а затем с использованием функций из библиотек numpy и pandas.\n"
   ]
  },
  {
   "cell_type": "code",
   "execution_count": 35,
   "id": "15b8b7a5",
   "metadata": {},
   "outputs": [
    {
     "name": "stdout",
     "output_type": "stream",
     "text": [
      "Ковариация с помощью элементарных действий: 10175.37777777778\n",
      "Ковариация с помощью функции cov из numpy: 10175.377777777776\n",
      "Коэффициент корреляции Пирсона с помощью ковариации и среднеквадратичных отклонений: 0.8874900920739164\n",
      "Коэффициент корреляции Пирсона с помощью pandas: 0.8874900920739168\n",
      "Коэффициент корреляции Пирсона с помощью numpy: 0.8874900920739162\n"
     ]
    },
    {
     "data": {
      "image/png": "[encoded data removed]",
      "text/plain": [
       "<Figure size 432x288 with 1 Axes>"
      ]
     },
     "metadata": {
      "needs_background": "light"
     },
     "output_type": "display_data"
    }
   ],
   "source": [
    "import pandas as pd\n",
    "import numpy as np\n",
    "\n",
    "zp_ks = {'zp': [35, 45, 190, 200, 40, 70, 54, 150, 120, 110], 'ks': [401, 574, 874, 919, 459, 739, 653, 902, 746, 832]}\n",
    "df = pd.DataFrame(data=zp_ks)\n",
    "df.plot(kind='scatter', x='zp', y='ks')\n",
    "\n",
    "X = df['zp']\n",
    "Y = df['ks']\n",
    "\n",
    "MX = X.mean()\n",
    "MY = Y.mean()\n",
    "\n",
    "cov = ((X - MX) * (Y - MY)).sum() / (X.shape[0] - 1)\n",
    "print (f\"Ковариация с помощью элементарных действий: {cov}\")\n",
    "print (f\"Ковариация с помощью функции cov из numpy: {np.cov(X, Y, ddof=1)[1][0]}\")\n",
    "print (f\"Коэффициент корреляции Пирсона с помощью ковариации и среднеквадратичных отклонений: {cov/(X.std() * Y.std())}\")\n",
    "print (f\"Коэффициент корреляции Пирсона с помощью pandas: {df[['zp', 'ks']].corr().iloc[1][0]}\")\n",
    "print (f\"Коэффициент корреляции Пирсона с помощью numpy: {np.corrcoef(X, Y)[1][0]}\")\n"
   ]
  },
  {
   "cell_type": "markdown",
   "id": "a23ade22",
   "metadata": {},
   "source": [
    "#### Задание №2\n",
    "Измерены значения IQ выборки студентов,\n",
    "обучающихся в местных технических вузах:\n",
    "131, 125, 115, 122, 131, 115, 107, 99, 125, 111.\n",
    "Известно, что в генеральной совокупности IQ распределен нормально.\n",
    "Найдите доверительный интервал для математического ожидания с надежностью 0.95.\n"
   ]
  },
  {
   "cell_type": "code",
   "execution_count": 54,
   "id": "ccee2b58",
   "metadata": {},
   "outputs": [
    {
     "name": "stdout",
     "output_type": "stream",
     "text": [
      "Доверительный интервал с надежностью 0.95: (110.55608365158724, 125.64391634841274)\n"
     ]
    }
   ],
   "source": [
    "from scipy import stats\n",
    "IQ = np.array([131, 125, 115, 122, 131, 115, 107, 99, 125, 111])\n",
    "alpha = 0.05\n",
    "n = IQ.shape[0]\n",
    "mean = IQ.mean()\n",
    "std = IQ.std(ddof=1)\n",
    "t1 = stats.t.ppf(alpha / 2, df=n - 1)\n",
    "t2 = stats.t.ppf(1 - alpha / 2, df=n - 1)\n",
    "print(f\"Доверительный интервал с надежностью {1-alpha}: {(mean + t1 * std / np.sqrt(n), mean + t2 * std / np.sqrt(n))}\")"
   ]
  },
  {
   "cell_type": "markdown",
   "id": "a738b81d",
   "metadata": {},
   "source": [
    "#### Задание №3\n",
    "Известно, что рост футболистов в сборной распределен нормально\n",
    "с дисперсией генеральной совокупности, равной 25 кв.см. Объем выборки равен 27,\n",
    "среднее выборочное составляет 174.2. Найдите доверительный интервал для математического\n",
    "ожидания с надежностью 0.95."
   ]
  },
  {
   "cell_type": "code",
   "execution_count": 58,
   "id": "ce92c0cd",
   "metadata": {},
   "outputs": [
    {
     "name": "stdout",
     "output_type": "stream",
     "text": [
      "Доверительный интервал с надежностью 0.95: (172.3140237765397, 176.08597622346028)\n"
     ]
    }
   ],
   "source": [
    "alpha = 0.05\n",
    "sigma = 5 #корень из дисперсии\n",
    "mean = 174.2\n",
    "n = 27\n",
    "t1 = stats.norm.ppf(alpha / 2)\n",
    "t2 = stats.norm.ppf(1 - alpha / 2)\n",
    "print(f\"Доверительный интервал с надежностью {1-alpha}: {(mean + t1 * sigma / np.sqrt(n), mean + t2 * sigma / np.sqrt(n))}\")"
   ]
  },
  {
   "cell_type": "markdown",
   "id": "3ab5290d",
   "metadata": {},
   "source": [
    "#### Задание №4\n",
    "Выберите тему для проектной работы по курсу Теории вероятностей и математической статистики\n",
    "и напишите ее в комментарии к Практическому заданию\n"
   ]
  },
  {
   "cell_type": "markdown",
   "id": "8fdbeb11",
   "metadata": {},
   "source": [
    "Дублирую здесь тему проектной работы:\n",
    "Повторение \"Предобработка данных\" из курса \"Библиотеки Python для Data Science\"."
   ]
  }
 ],
 "metadata": {
  "kernelspec": {
   "display_name": "Python 3",
   "language": "python",
   "name": "python3"
  },
  "language_info": {
   "codemirror_mode": {
    "name": "ipython",
    "version": 3
   },
   "file_extension": ".py",
   "mimetype": "text/x-python",
   "name": "python",
   "nbconvert_exporter": "python",
   "pygments_lexer": "ipython3",
   "version": "3.8.8"
  }
 },
 "nbformat": 4,
 "nbformat_minor": 5
}
