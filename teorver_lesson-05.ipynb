{
 "cells": [
  {
   "cell_type": "markdown",
   "id": "c26e9bf9",
   "metadata": {},
   "source": [
    "#### Задание №1\n",
    "Известно, что генеральная совокупность распределена нормально с известным средним квадратическим отклонением 16. Найти ширину доверительного интервала для оценки математического ожидания $\\mu$ с надёжностью 0.95, если выборочное среднее равно 80, а объём выборки равен 256.\n"
   ]
  },
  {
   "cell_type": "code",
   "execution_count": 16,
   "id": "a5d11553",
   "metadata": {},
   "outputs": [
    {
     "name": "stdout",
     "output_type": "stream",
     "text": [
      "Ширина доверительного интервала = 3.91992797\n"
     ]
    }
   ],
   "source": [
    "import numpy as np\n",
    "from scipy import stats\n",
    "p = 0.95\n",
    "alpha = 1 - p\n",
    "mean = 80\n",
    "sigma = 16\n",
    "n =256\n",
    "\n",
    "t1 = stats.norm.ppf(alpha / 2)\n",
    "t2 = stats.norm.ppf(1 - alpha / 2)\n",
    "\n",
    "CIW = t2 * sigma / np.sqrt(n) - t1 * sigma / np.sqrt(n)\n",
    "print(f\"Ширина доверительного интервала = {round(CIW, 8)}\")\n",
    " "
   ]
  },
  {
   "cell_type": "markdown",
   "id": "990c2aa9",
   "metadata": {},
   "source": [
    "#### Задание №2\n",
    "Продавец утверждает, что средний вес пачки печенья составляет 200 г. Из партии извлечена выборка из 10 пачек. Вес каждой пачки составляет: 202, 203, 199, 197, 195, 201, 200, 204, 194, 190 Известно, что их веса распределены нормально. Верно ли утверждение продавца, если учитывать, что уровень значимости равен 1%? Найдите P-значение для данного теста и укажите его в качестве ответа."
   ]
  },
  {
   "cell_type": "code",
   "execution_count": 19,
   "id": "67940854",
   "metadata": {},
   "outputs": [
    {
     "name": "stdout",
     "output_type": "stream",
     "text": [
      "P-значение для данного теста = 0.3145666\n"
     ]
    }
   ],
   "source": [
    "def statistic(samples: np.ndarray) -> float:\n",
    "    return (samples.mean() - mean) / (samples.std(ddof=1) / np.sqrt(samples.shape[0]))\n",
    "\n",
    "samples = np.array([202, 203, 199, 197, 195, 201, 200, 204, 194, 190])\n",
    "mean = 200\n",
    "alpha = 0.01\n",
    "n = samples.shape[0]\n",
    "S = statistic(samples)\n",
    "\n",
    "p_left = stats.t.cdf(S, df=n - 1)\n",
    "p_right = 1 - stats.t.cdf(S, df=n - 1)\n",
    "\n",
    "pvalue = 2 * min(p_left, p_right)\n",
    "\n",
    "print(f\"P-значение для данного теста = {round(pvalue, 8)}\")"
   ]
  },
  {
   "cell_type": "markdown",
   "id": "c005939c",
   "metadata": {},
   "source": [
    "P-значение больше выбранного уровня значимости, значит нулевая гипотеза может быть принята. Уверждение продавца скорее всего верно."
   ]
  },
  {
   "cell_type": "markdown",
   "id": "b564b9c3",
   "metadata": {},
   "source": [
    "#### Задание №3\n",
    "\n",
    "Дана выборка диаметров подшипников из примера 1 с занятия 5:\n",
    "```\n",
    "samples = [0.6603, 0.9466, 0.5968, 1.3792, 1.5481, 0.7515, 1.0681, 1.1134,\n",
    "           1.2088, 1.701 , 1.0282, 1.3579, 1.0191, 1.1784, 1.1168, 1.1372,\n",
    "           0.7273, 1.3958, 0.8665, 1.5112, 1.161 , 1.0232, 1.0865, 1.02  ]\n",
    "```\n",
    "Предполагая, что диаметры подшипников распределены нормально, проверьте гипотезу о том, что дисперсия случайной величины равна `0.0625` при уровне значимости `alpha = 0.05`. Что для этого нужно знать:\n",
    "1. Альтернативная гипотеза двухсторонняя.\n",
    "2. Статистика для теста: `H = (n - 1) * sample_variance / variance`, где `n` - число элементов в выборке, `sample_variance` - несмещённая оценка дисперсии, `variance` - утверждаемая нулевой гипотезой дисперсия.\n",
    "3. Эта статистика в предположении верности нулевой гипотезы имеет распределение хи-квадрат с параметром `df = n - 1`. Её квантили можно найти с помощью функции `scipy.stats.chi2.ppf`.\n",
    "\n",
    "В качестве ответа запишите 1, если нулевая гипотеза верна, и 0 иначе."
   ]
  },
  {
   "cell_type": "code",
   "execution_count": 41,
   "id": "fcfa5849",
   "metadata": {},
   "outputs": [
    {
     "name": "stdout",
     "output_type": "stream",
     "text": [
      "Доверительный интервал: 13.09-35.17\n",
      "Статистика H: 28.72\n"
     ]
    }
   ],
   "source": [
    "def statistic(samples: np.ndarray) -> float:\n",
    "    return ((n - 1)*samples.std(ddof=1)**2/variance)\n",
    "\n",
    "samples = np.array([0.6603, 0.9466, 0.5968, 1.3792, 1.5481, 0.7515, 1.0681, 1.1134,\n",
    "           1.2088, 1.701 , 1.0282, 1.3579, 1.0191, 1.1784, 1.1168, 1.1372,\n",
    "           0.7273, 1.3958, 0.8665, 1.5112, 1.161 , 1.0232, 1.0865, 1.02])\n",
    "alpha = 0.05\n",
    "variance = 0.0625\n",
    "n = samples.shape[0]\n",
    "H = statistic(samples)\n",
    "\n",
    "p_left = stats.chi2.ppf(alpha/2, df=n - 1)\n",
    "p_right = stats.chi2.ppf(1-alpha/2, df=n - 1)\n",
    "\n",
    "\n",
    "\n",
    "print(f\"Доверительный интервал: {round(p_left,2)}-{round(p_right,2)}\")\n",
    "print(f\"Статистика H: {round(H,2)}\")\n"
   ]
  },
  {
   "cell_type": "markdown",
   "id": "c90dcf98",
   "metadata": {},
   "source": [
    "Статистика располагается близко к середине доверительного интервала, значит нулевая гипотеза скорее всего верна,\n",
    "т.е. \n",
    "#### Ответ: 1"
   ]
  }
 ],
 "metadata": {
  "kernelspec": {
   "display_name": "Python 3",
   "language": "python",
   "name": "python3"
  },
  "language_info": {
   "codemirror_mode": {
    "name": "ipython",
    "version": 3
   },
   "file_extension": ".py",
   "mimetype": "text/x-python",
   "name": "python",
   "nbconvert_exporter": "python",
   "pygments_lexer": "ipython3",
   "version": "3.8.8"
  }
 },
 "nbformat": 4,
 "nbformat_minor": 5
}
